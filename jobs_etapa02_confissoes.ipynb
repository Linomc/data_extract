{
 "cells": [
  {
   "cell_type": "markdown",
   "id": "ba46d87e-1b4b-4314-8076-f616903680ab",
   "metadata": {},
   "source": [
    "# Rotina 02 - Etapa 02 - Confissões de dívida"
   ]
  },
  {
   "cell_type": "code",
   "execution_count": 3,
   "id": "258b80f8-f2a3-4402-bd93-829149c41b30",
   "metadata": {},
   "outputs": [
    {
     "data": {
      "text/plain": [
       "'pt_BR.UTF-8'"
      ]
     },
     "execution_count": 3,
     "metadata": {},
     "output_type": "execute_result"
    }
   ],
   "source": [
    "import pdfplumber as pdfp\n",
    "import pandas as pd\n",
    "import numpy as np\n",
    "import locale\n",
    "locale.setlocale(locale.LC_ALL,'pt_BR.UTF-8')"
   ]
  },
  {
   "cell_type": "code",
   "execution_count": 69,
   "id": "005ee652-359d-47bd-9adf-500168504dd4",
   "metadata": {},
   "outputs": [],
   "source": [
    "# para mudar de forma escalável\n",
    "ano = \"2009\"\n",
    "diretorios = \"confissoes/\" + ano + \"/\""
   ]
  },
  {
   "cell_type": "code",
   "execution_count": 70,
   "id": "b5c5cafb-821b-469e-8ead-7610f32d4e70",
   "metadata": {},
   "outputs": [],
   "source": [
    "doc1 = diretorios + \"Confissao-01.pdf\"\n",
    "doc2 = diretorios + \"Confissao-02.pdf\"\n",
    "doc3 = diretorios + \"Confissao-03.pdf\"\n",
    "doc4 = diretorios + \"Confissao-04.pdf\"\n",
    "doc5 = diretorios + \"Confissao-05.pdf\"\n",
    "doc6 = diretorios + \"Confissao-06.pdf\"\n",
    "doc7 = diretorios + \"Confissao-07.pdf\"\n",
    "doc8 = diretorios + \"Confissao-08.pdf\"\n",
    "doc9 = diretorios + \"Confissao-09.pdf\"\n",
    "doc10 = diretorios + \"Confissao-10.pdf\"\n",
    "doc11 = diretorios + \"Confissao-11.pdf\"\n",
    "doc12 = diretorios + \"Confissao-12.pdf\"\n",
    "confissoes = [doc1, doc2, doc3, doc4, doc5, doc6, doc7, doc8, doc9, doc10, doc11, doc12]\n",
    "#confissoes_2000 = [doc9, doc10, doc11, doc12]\n",
    "confissoes_2009 = [doc1, doc2, doc3, doc6, doc7, doc12]\n",
    "confissoes_2010 = [doc1, doc2, doc3]"
   ]
  },
  {
   "cell_type": "code",
   "execution_count": 71,
   "id": "fb39dae5-5cad-46fb-a0f1-7ce9e1eacbb7",
   "metadata": {},
   "outputs": [],
   "source": [
    "lista_confissoes_mes, lista_confissoes_ano = [], []\n",
    "for doc in confissoes:\n",
    "    documento = pdfp.open(doc)\n",
    "    total_paginas = documento.pages\n",
    "    #print (len(total_paginas))\n",
    "    for i in range(0,len(total_paginas),1):\n",
    "        confissoes_mes = total_paginas[i].extract_text().split()\n",
    "        for i, elemento in enumerate(confissoes_mes):\n",
    "            if (elemento in 'INSCRIÇÃO:') and (confissoes_mes[i-1] in 'LAGOA'): # pegar CNPJ\n",
    "                lista_confissoes_mes.append(confissoes_mes[i+1])\n",
    "            if (elemento in 'COMPETÊNCIA:') and (confissoes_mes[i+2] in 'DATA'): # pegar mês/ano\n",
    "                lista_confissoes_mes.append(confissoes_mes[i+1])\n",
    "            if elemento in 'REMUNERAÇÃO' and confissoes_mes[(i+1)] in 'FGTS' and confissoes_mes[i+2] in 'R$':\n",
    "                remuneracao = locale.atof(confissoes_mes[i+3])\n",
    "                lista_confissoes_mes.append(remuneracao)\n",
    "        lista_confissoes_ano.append(lista_confissoes_mes)\n",
    "        lista_confissoes_mes = []\n"
   ]
  },
  {
   "cell_type": "code",
   "execution_count": 73,
   "id": "b9ae1586-49eb-44a8-9e43-4d5fc6e23902",
   "metadata": {},
   "outputs": [
    {
     "name": "stdout",
     "output_type": "stream",
     "text": [
      "48\n"
     ]
    },
    {
     "data": {
      "text/plain": [
       "[['NSCRIÇÃO:', 328204.77],\n",
       " ['NSCRIÇÃO:', 49005.91],\n",
       " ['NSCRIÇÃO:', 24702.3],\n",
       " ['NSCRIÇÃO:', 46906.44],\n",
       " ['NSCRIÇÃO:', 3669.43],\n",
       " ['NSCRIÇÃO:', 11026.86],\n",
       " ['NSCRIÇÃO:', 42627.2],\n",
       " ['NSCRIÇÃO:', 123730.2],\n",
       " ['NSCRIÇÃO:', 351736.09],\n",
       " ['NSCRIÇÃO:', 50554.7],\n",
       " ['NSCRIÇÃO:', 26340.42],\n",
       " ['NSCRIÇÃO:', 50242.83],\n",
       " ['NSCRIÇÃO:', 4003.09],\n",
       " ['NSCRIÇÃO:', 10142.0],\n",
       " ['NSCRIÇÃO:', 42522.06],\n",
       " ['NSCRIÇÃO:', 129258.18],\n",
       " ['30.500.334/0001-95', '03/2009', 340773.59],\n",
       " ['30.500.334/0002-76', '03/2009', 44324.68],\n",
       " ['30.500.334/0005-19', '03/2009', 26609.99],\n",
       " ['30.500.334/0006-08', '03/2009', 46817.6],\n",
       " ['30.500.334/0007-80', '03/2009', 3459.65],\n",
       " ['30.500.334/0008-61', '03/2009', 8484.33],\n",
       " ['30.500.334/0009-42', '03/2009', 40730.67],\n",
       " ['30.500.334/0010-86', '03/2009', 113078.94],\n",
       " ['30.500.334/0001-95', '06/2009', 378098.61],\n",
       " ['30.500.334/0002-76', '06/2009', 47141.69],\n",
       " ['30.500.334/0005-19', '06/2009', 33525.57],\n",
       " ['30.500.334/0006-08', '06/2009', 50564.83],\n",
       " ['30.500.334/0007-80', '06/2009', 3990.22],\n",
       " ['30.500.334/0008-61', '06/2009', 9058.23],\n",
       " ['30.500.334/0009-42', '06/2009', 45076.17],\n",
       " ['30.500.334/0010-86', '06/2009', 126454.94],\n",
       " ['30.500.334/0001-95', '07/2009', 380422.81],\n",
       " ['30.500.334/0002-76', '07/2009', 47061.78],\n",
       " ['30.500.334/0005-19', '07/2009', 26860.52],\n",
       " ['30.500.334/0006-08', '07/2009', 50505.41],\n",
       " ['30.500.334/0007-80', '07/2009', 3657.6],\n",
       " ['30.500.334/0008-61', '07/2009', 9101.21],\n",
       " ['30.500.334/0009-42', '07/2009', 43679.95],\n",
       " ['30.500.334/0010-86', '07/2009', 127890.54],\n",
       " ['30.500.334/0001-95', '12/2009', 567447.9],\n",
       " ['30.500.334/0002-76', '12/2009', 69234.78],\n",
       " ['30.500.334/0005-19', '12/2009', 40590.05],\n",
       " ['30.500.334/0006-08', '12/2009', 73847.08],\n",
       " ['30.500.334/0007-80', '12/2009', 5486.4],\n",
       " ['30.500.334/0008-61', '12/2009', 9057.83],\n",
       " ['30.500.334/0009-42', '12/2009', 64274.82],\n",
       " ['30.500.334/0010-86', '12/2009', 175099.43]]"
      ]
     },
     "execution_count": 73,
     "metadata": {},
     "output_type": "execute_result"
    }
   ],
   "source": [
    "print (len(lista_confissoes_ano))\n",
    "lista_confissoes_ano"
   ]
  },
  {
   "cell_type": "code",
   "execution_count": 67,
   "id": "fefbcbed-9546-444c-9ab2-f7be93a1c536",
   "metadata": {},
   "outputs": [],
   "source": [
    "variaveis = ['inscricao', 'competencia', 'remuneracao']"
   ]
  },
  {
   "cell_type": "code",
   "execution_count": 68,
   "id": "f79af504-7f46-4ebf-91d5-869041133c4f",
   "metadata": {},
   "outputs": [],
   "source": [
    "confissoes_ano = pd.DataFrame(lista_confissoes_ano, columns=variaveis)\n",
    "confissoes_ano.to_excel('confissoes_2010.xlsx', sheet_name='2010')"
   ]
  }
 ],
 "metadata": {
  "kernelspec": {
   "display_name": "Python 3 (ipykernel)",
   "language": "python",
   "name": "python3"
  },
  "language_info": {
   "codemirror_mode": {
    "name": "ipython",
    "version": 3
   },
   "file_extension": ".py",
   "mimetype": "text/x-python",
   "name": "python",
   "nbconvert_exporter": "python",
   "pygments_lexer": "ipython3",
   "version": "3.10.12"
  }
 },
 "nbformat": 4,
 "nbformat_minor": 5
}
